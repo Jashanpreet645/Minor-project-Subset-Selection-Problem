{
  "nbformat": 4,
  "nbformat_minor": 0,
  "metadata": {
    "colab": {
      "provenance": [],
      "authorship_tag": "ABX9TyO+vyQ2rSsi/KXsSiSEY5jx",
      "include_colab_link": true
    },
    "kernelspec": {
      "name": "python3",
      "display_name": "Python 3"
    },
    "language_info": {
      "name": "python"
    }
  },
  "cells": [
    {
      "cell_type": "markdown",
      "metadata": {
        "id": "view-in-github",
        "colab_type": "text"
      },
      "source": [
        "<a href=\"https://colab.research.google.com/github/Jashanpreet645/Minor-project-Subset-Selection-Problem/blob/main/solution_to_Subset_Selection_Problem.ipynb\" target=\"_parent\"><img src=\"https://colab.research.google.com/assets/colab-badge.svg\" alt=\"Open In Colab\"/></a>"
      ]
    },
    {
      "cell_type": "markdown",
      "source": [
        "\n",
        "# **Mini-Project-Subset-Selection-Problem**\n",
        "---\n"
      ],
      "metadata": {
        "id": "Sn_riYftfXZQ"
      }
    },
    {
      "cell_type": "code",
      "execution_count": null,
      "metadata": {
        "id": "AZECNZnXfViY"
      },
      "outputs": [],
      "source": [
        "import random as r\n",
        "Set={-12, -3, -6, 7, 2, -2, 6, 3, 9, -7, -5, -8, 1, 11, -9, -4}\n",
        "result = set()\n",
        "iterations = 100\n",
        "\n",
        "for i in range(iterations):\n",
        "  setsize = r.randint(3,6)\n",
        "  samples = r.sample(Set,setsize)\n",
        "  if(sum(samples)==0):\n",
        "    result.add(tuple(samples))\n",
        "\n",
        "for sets in result:\n",
        "  print(sets)"
      ]
    }
  ]
}